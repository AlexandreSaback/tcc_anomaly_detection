{
 "cells": [
  {
   "cell_type": "code",
   "execution_count": 1,
   "metadata": {},
   "outputs": [],
   "source": [
    "import pandas as pd\n",
    "import numpy as np\n",
    "import matplotlib.pyplot as plt\n",
    "import seaborn as sns\n",
    "from pathlib import Path\n",
    "import os\n",
    "from os.path import join\n",
    "import re\n",
    "import math\n",
    "import basedosdados as bd\n",
    "from google.cloud import bigquery"
   ]
  },
  {
   "cell_type": "code",
   "execution_count": null,
   "metadata": {},
   "outputs": [],
   "source": [
    "def download(\n",
    "    savepath,\n",
    "    query=None,\n",
    "    dataset_id=None,\n",
    "    table_id=None,\n",
    "    billing_project_id=None,\n",
    "    query_project_id=\"basedosdados\",\n",
    "    limit=None,\n",
    "    from_file=False,\n",
    "    reauth=False,\n",
    "    compression=\"GZIP\",\n",
    "):\n",
    "    \"\"\"Download table or query result from basedosdados BigQuery (or other).\n",
    "\n",
    "    * Using a **query**:\n",
    "\n",
    "        `download('select * from `basedosdados.br_suporte.diretorio_municipios` limit 10')`\n",
    "\n",
    "    * Using **dataset_id & table_id**:\n",
    "\n",
    "        `download(dataset_id='br_suporte', table_id='diretorio_municipios')`\n",
    "\n",
    "    You can also add arguments to modify save parameters:\n",
    "\n",
    "    `download(dataset_id='br_suporte', table_id='diretorio_municipios', index=False, sep='|')`\n",
    "\n",
    "\n",
    "    Args:\n",
    "        savepath (str, pathlib.PosixPath):\n",
    "            savepath must be a file path. Only supports `.csv`.\n",
    "        query (str): Optional.\n",
    "            Valid SQL Standard Query to basedosdados. If query is available,\n",
    "            dataset_id and table_id are not required.\n",
    "        dataset_id (str): Optional.\n",
    "            Dataset id available in basedosdados. It should always come with table_id.\n",
    "        table_id (str): Optional.\n",
    "            Table id available in basedosdados.dataset_id.\n",
    "            It should always come with dataset_id.\n",
    "        billing_project_id (str): Optional.\n",
    "            Project that will be billed. Find your Project ID here https://console.cloud.google.com/projectselector2/home/dashboard\n",
    "        query_project_id (str): Optional.\n",
    "            Which project the table lives. You can change this you want to query different projects.\n",
    "        limit (int): Optional\n",
    "            Number of rows.\n",
    "        from_file (boolean): Optional.\n",
    "            Uses the credentials from file, located in `~/.basedosdados/credentials/\n",
    "        reauth (boolean): Optional.\n",
    "            Re-authorize Google Cloud Project in case you need to change user or reset configurations.\n",
    "        compression (str): Optional.\n",
    "            Compression type. Only `GZIP` is available for now.\n",
    "    Raises:\n",
    "        Exception: If either table_id, dataset_id or query are empty.\n",
    "    \"\"\"\n",
    "\n",
    "    billing_project_id, from_file = _set_config_variables(\n",
    "        billing_project_id=billing_project_id, from_file=from_file\n",
    "    )\n",
    "\n",
    "    if (query is None) and ((table_id is None) or (dataset_id is None)):\n",
    "        raise BaseDosDadosException(\n",
    "            \"Either table_id, dataset_id or query should be filled.\"\n",
    "        )\n",
    "\n",
    "    client = _google_client(billing_project_id, from_file, reauth)\n",
    "\n",
    "    # makes sure that savepath is a filepath and not a folder\n",
    "    savepath = _sets_savepath(savepath)\n",
    "\n",
    "    # if query is not defined (so it won't be overwritten) and if\n",
    "    # table is a view or external or if limit is specified,\n",
    "    # convert it to a query.\n",
    "    if not query and (\n",
    "        not _is_table(client, dataset_id, table_id, query_project_id) or limit\n",
    "    ):\n",
    "        query = f\"\"\"\n",
    "        SELECT *\n",
    "          FROM {query_project_id}.{dataset_id}.{table_id}\n",
    "        \"\"\"\n",
    "\n",
    "        if limit is not None:\n",
    "            query += f\" limit {limit}\"\n",
    "\n",
    "    if query:\n",
    "        # sql queries produces anonymous tables, whose names\n",
    "        # can be found within `job._properties`\n",
    "        job = client[\"bigquery\"].query(query)\n",
    "\n",
    "        # views may take longer: wait for job to finish.\n",
    "        _wait_for(job)\n",
    "\n",
    "        dest_table = job._properties[\"configuration\"][\"query\"][\"destinationTable\"]\n",
    "\n",
    "        project_id = dest_table[\"projectId\"]\n",
    "        dataset_id = dest_table[\"datasetId\"]\n",
    "        table_id = dest_table[\"tableId\"]\n",
    "\n",
    "    _direct_download(client, dataset_id, table_id, savepath, project_id, compression)"
   ]
  },
  {
   "cell_type": "code",
   "execution_count": 2,
   "metadata": {},
   "outputs": [],
   "source": [
    "MODULE_PATH = Path().absolute().parent\n",
    "DATA_PATH = join(MODULE_PATH, \"sources/raw\")\n",
    "CONFIG_PATH = join(MODULE_PATH, \"config\")"
   ]
  },
  {
   "cell_type": "code",
   "execution_count": 3,
   "metadata": {},
   "outputs": [],
   "source": [
    "os.environ[\"GOOGLE_APPLICATION_CREDENTIALS\"] = join(CONFIG_PATH, \"optimum-vine-316721-5d37568eb4e0.json\")"
   ]
  },
  {
   "cell_type": "code",
   "execution_count": 4,
   "metadata": {},
   "outputs": [
    {
     "name": "stdout",
     "output_type": "stream",
     "text": [
      "Autenticação bem-sucedida! Projeto: optimum-vine-316721\n"
     ]
    }
   ],
   "source": [
    "client = bigquery.Client()\n",
    "print(\"Autenticação bem-sucedida! Projeto:\", client.project)"
   ]
  },
  {
   "cell_type": "code",
   "execution_count": 5,
   "metadata": {},
   "outputs": [
    {
     "name": "stdout",
     "output_type": "stream",
     "text": [
      "Downloading: 100%|\u001b[32m██████████\u001b[0m|\n"
     ]
    }
   ],
   "source": [
    "df = bd.read_table('br_ibge_pib', 'municipio', billing_project_id=\"optimum-vine-316721\")"
   ]
  },
  {
   "cell_type": "code",
   "execution_count": 8,
   "metadata": {},
   "outputs": [
    {
     "ename": "UnboundLocalError",
     "evalue": "local variable 'project_id' referenced before assignment",
     "output_type": "error",
     "traceback": [
      "\u001b[1;31m---------------------------------------------------------------------------\u001b[0m",
      "\u001b[1;31mUnboundLocalError\u001b[0m                         Traceback (most recent call last)",
      "Cell \u001b[1;32mIn[8], line 1\u001b[0m\n\u001b[1;32m----> 1\u001b[0m \u001b[43mbd\u001b[49m\u001b[38;5;241;43m.\u001b[39;49m\u001b[43mdownload\u001b[49m\u001b[43m(\u001b[49m\u001b[43msavepath\u001b[49m\u001b[38;5;241;43m=\u001b[39;49m\u001b[43mjoin\u001b[49m\u001b[43m(\u001b[49m\u001b[43mDATA_PATH\u001b[49m\u001b[43m,\u001b[49m\u001b[43m \u001b[49m\u001b[38;5;124;43m\"\u001b[39;49m\u001b[38;5;124;43mtest.csv\u001b[39;49m\u001b[38;5;124;43m\"\u001b[39;49m\u001b[43m)\u001b[49m\u001b[43m,\u001b[49m\u001b[43m \u001b[49m\u001b[43mdataset_id\u001b[49m\u001b[38;5;241;43m=\u001b[39;49m\u001b[38;5;124;43m\"\u001b[39;49m\u001b[38;5;124;43mbr_ibge_pib\u001b[39;49m\u001b[38;5;124;43m\"\u001b[39;49m\u001b[43m,\u001b[49m\u001b[43m \u001b[49m\u001b[43mtable_id\u001b[49m\u001b[38;5;241;43m=\u001b[39;49m\u001b[38;5;124;43m\"\u001b[39;49m\u001b[38;5;124;43mmunicipio\u001b[39;49m\u001b[38;5;124;43m\"\u001b[39;49m\u001b[43m,\u001b[49m\u001b[43m \u001b[49m\u001b[43mbilling_project_id\u001b[49m\u001b[38;5;241;43m=\u001b[39;49m\u001b[38;5;124;43m\"\u001b[39;49m\u001b[38;5;124;43moptimum-vine-316721\u001b[39;49m\u001b[38;5;124;43m\"\u001b[39;49m\u001b[43m)\u001b[49m\n",
      "File \u001b[1;32md:\\anaconda3\\lib\\site-packages\\basedosdados\\download\\download.py:267\u001b[0m, in \u001b[0;36mdownload\u001b[1;34m(savepath, query, dataset_id, table_id, billing_project_id, query_project_id, limit, from_file, reauth, compression)\u001b[0m\n\u001b[0;32m    264\u001b[0m     dataset_id \u001b[38;5;241m=\u001b[39m dest_table[\u001b[38;5;124m\"\u001b[39m\u001b[38;5;124mdatasetId\u001b[39m\u001b[38;5;124m\"\u001b[39m]\n\u001b[0;32m    265\u001b[0m     table_id \u001b[38;5;241m=\u001b[39m dest_table[\u001b[38;5;124m\"\u001b[39m\u001b[38;5;124mtableId\u001b[39m\u001b[38;5;124m\"\u001b[39m]\n\u001b[1;32m--> 267\u001b[0m _direct_download(client, dataset_id, table_id, savepath, \u001b[43mproject_id\u001b[49m, compression)\n",
      "\u001b[1;31mUnboundLocalError\u001b[0m: local variable 'project_id' referenced before assignment"
     ]
    }
   ],
   "source": [
    "bd.download(savepath=join(DATA_PATH, \"test.csv\"), dataset_id=\"br_ibge_pib\", table_id=\"municipio\", billing_project_id=\"optimum-vine-316721\")"
   ]
  },
  {
   "cell_type": "code",
   "execution_count": null,
   "metadata": {},
   "outputs": [],
   "source": [
    "basedosdados.world_imdb_movies.top_movies_per_year"
   ]
  },
  {
   "cell_type": "code",
   "execution_count": 24,
   "metadata": {},
   "outputs": [
    {
     "ename": "UnboundLocalError",
     "evalue": "local variable 'project_id' referenced before assignment",
     "output_type": "error",
     "traceback": [
      "\u001b[1;31m---------------------------------------------------------------------------\u001b[0m",
      "\u001b[1;31mUnboundLocalError\u001b[0m                         Traceback (most recent call last)",
      "Cell \u001b[1;32mIn[24], line 1\u001b[0m\n\u001b[1;32m----> 1\u001b[0m \u001b[43mbd\u001b[49m\u001b[38;5;241;43m.\u001b[39;49m\u001b[43mdownload\u001b[49m\u001b[43m(\u001b[49m\u001b[43msavepath\u001b[49m\u001b[38;5;241;43m=\u001b[39;49m\u001b[43mjoin\u001b[49m\u001b[43m(\u001b[49m\u001b[43mDATA_PATH\u001b[49m\u001b[43m,\u001b[49m\u001b[43m \u001b[49m\u001b[38;5;124;43m\"\u001b[39;49m\u001b[38;5;124;43mtest.csv\u001b[39;49m\u001b[38;5;124;43m\"\u001b[39;49m\u001b[43m)\u001b[49m\u001b[43m,\u001b[49m\u001b[43m \u001b[49m\u001b[43mdataset_id\u001b[49m\u001b[38;5;241;43m=\u001b[39;49m\u001b[38;5;124;43m\"\u001b[39;49m\u001b[38;5;124;43mworld_imdb_movies\u001b[39;49m\u001b[38;5;124;43m\"\u001b[39;49m\u001b[43m,\u001b[49m\u001b[43m \u001b[49m\u001b[43mtable_id\u001b[49m\u001b[38;5;241;43m=\u001b[39;49m\u001b[38;5;124;43m\"\u001b[39;49m\u001b[38;5;124;43mtop_movies_per_year\u001b[39;49m\u001b[38;5;124;43m\"\u001b[39;49m\u001b[43m)\u001b[49m\n",
      "File \u001b[1;32md:\\anaconda3\\lib\\site-packages\\basedosdados\\download\\download.py:268\u001b[0m, in \u001b[0;36mdownload\u001b[1;34m(savepath, query, dataset_id, table_id, billing_project_id, query_project_id, limit, from_file, reauth, compression)\u001b[0m\n\u001b[0;32m    265\u001b[0m     dataset_id \u001b[38;5;241m=\u001b[39m dest_table[\u001b[38;5;124m\"\u001b[39m\u001b[38;5;124mdatasetId\u001b[39m\u001b[38;5;124m\"\u001b[39m]\n\u001b[0;32m    266\u001b[0m     table_id \u001b[38;5;241m=\u001b[39m dest_table[\u001b[38;5;124m\"\u001b[39m\u001b[38;5;124mtableId\u001b[39m\u001b[38;5;124m\"\u001b[39m]\n\u001b[1;32m--> 268\u001b[0m _direct_download(client, dataset_id, table_id, savepath, \u001b[43mproject_id\u001b[49m, compression)\n",
      "\u001b[1;31mUnboundLocalError\u001b[0m: local variable 'project_id' referenced before assignment"
     ]
    }
   ],
   "source": [
    "bd.download(savepath=join(DATA_PATH, \"test.csv\"), dataset_id=\"world_imdb_movies\", table_id=\"top_movies_per_year\")"
   ]
  },
  {
   "cell_type": "code",
   "execution_count": 13,
   "metadata": {},
   "outputs": [
    {
     "ename": "DefaultCredentialsError",
     "evalue": "Could not automatically determine credentials. Please set GOOGLE_APPLICATION_CREDENTIALS or explicitly create credentials and re-run the application. For more information, please see https://cloud.google.com/docs/authentication/getting-started",
     "output_type": "error",
     "traceback": [
      "\u001b[1;31m---------------------------------------------------------------------------\u001b[0m",
      "\u001b[1;31mDefaultCredentialsError\u001b[0m                   Traceback (most recent call last)",
      "Cell \u001b[1;32mIn[13], line 1\u001b[0m\n\u001b[1;32m----> 1\u001b[0m \u001b[43mbd\u001b[49m\u001b[38;5;241;43m.\u001b[39;49m\u001b[43mdownload\u001b[49m\u001b[43m(\u001b[49m\u001b[43mdataset_id\u001b[49m\u001b[38;5;241;43m=\u001b[39;49m\u001b[38;5;124;43m\"\u001b[39;49m\u001b[38;5;124;43mbr_inmet_bdmep\u001b[39;49m\u001b[38;5;124;43m\"\u001b[39;49m\u001b[43m,\u001b[49m\u001b[43m \u001b[49m\u001b[43mtable_id\u001b[49m\u001b[38;5;241;43m=\u001b[39;49m\u001b[38;5;124;43m\"\u001b[39;49m\u001b[38;5;124;43mmicrodados\u001b[39;49m\u001b[38;5;124;43m\"\u001b[39;49m\u001b[43m,\u001b[49m\u001b[43m \u001b[49m\u001b[43msavepath\u001b[49m\u001b[38;5;241;43m=\u001b[39;49m\u001b[43mDATA_PATH\u001b[49m\u001b[43m)\u001b[49m\n",
      "File \u001b[1;32md:\\anaconda3\\lib\\site-packages\\basedosdados\\download\\download.py:235\u001b[0m, in \u001b[0;36mdownload\u001b[1;34m(savepath, query, dataset_id, table_id, billing_project_id, query_project_id, limit, from_file, reauth, compression)\u001b[0m\n\u001b[0;32m    230\u001b[0m \u001b[38;5;28;01mif\u001b[39;00m (query \u001b[38;5;129;01mis\u001b[39;00m \u001b[38;5;28;01mNone\u001b[39;00m) \u001b[38;5;129;01mand\u001b[39;00m ((table_id \u001b[38;5;129;01mis\u001b[39;00m \u001b[38;5;28;01mNone\u001b[39;00m) \u001b[38;5;129;01mor\u001b[39;00m (dataset_id \u001b[38;5;129;01mis\u001b[39;00m \u001b[38;5;28;01mNone\u001b[39;00m)):\n\u001b[0;32m    231\u001b[0m     \u001b[38;5;28;01mraise\u001b[39;00m BaseDosDadosException(\n\u001b[0;32m    232\u001b[0m         \u001b[38;5;124m\"\u001b[39m\u001b[38;5;124mEither table_id, dataset_id or query should be filled.\u001b[39m\u001b[38;5;124m\"\u001b[39m\n\u001b[0;32m    233\u001b[0m     )\n\u001b[1;32m--> 235\u001b[0m client \u001b[38;5;241m=\u001b[39m \u001b[43mgoogle_client\u001b[49m\u001b[43m(\u001b[49m\u001b[43mbilling_project_id\u001b[49m\u001b[43m,\u001b[49m\u001b[43m \u001b[49m\u001b[43mfrom_file\u001b[49m\u001b[43m,\u001b[49m\u001b[43m \u001b[49m\u001b[43mreauth\u001b[49m\u001b[43m)\u001b[49m\n\u001b[0;32m    237\u001b[0m \u001b[38;5;66;03m# makes sure that savepath is a filepath and not a folder\u001b[39;00m\n\u001b[0;32m    238\u001b[0m savepath \u001b[38;5;241m=\u001b[39m _sets_savepath(savepath)\n",
      "File \u001b[1;32md:\\anaconda3\\lib\\site-packages\\basedosdados\\download\\base.py:64\u001b[0m, in \u001b[0;36mgoogle_client\u001b[1;34m(billing_project_id, from_file, reauth)\u001b[0m\n\u001b[0;32m     57\u001b[0m \u001b[38;5;129m@lru_cache\u001b[39m(\u001b[38;5;241m256\u001b[39m)\n\u001b[0;32m     58\u001b[0m \u001b[38;5;28;01mdef\u001b[39;00m \u001b[38;5;21mgoogle_client\u001b[39m(billing_project_id, from_file, reauth):\n\u001b[0;32m     59\u001b[0m     \u001b[38;5;124;03m'''\u001b[39;00m\n\u001b[0;32m     60\u001b[0m \u001b[38;5;124;03m    Get Google Cloud client for bigquery and storage\u001b[39;00m\n\u001b[0;32m     61\u001b[0m \u001b[38;5;124;03m    '''\u001b[39;00m\n\u001b[0;32m     63\u001b[0m     \u001b[38;5;28;01mreturn\u001b[39;00m \u001b[38;5;28mdict\u001b[39m(\n\u001b[1;32m---> 64\u001b[0m         bigquery\u001b[38;5;241m=\u001b[39m\u001b[43mbigquery\u001b[49m\u001b[38;5;241;43m.\u001b[39;49m\u001b[43mClient\u001b[49m\u001b[43m(\u001b[49m\n\u001b[0;32m     65\u001b[0m \u001b[43m            \u001b[49m\u001b[43mcredentials\u001b[49m\u001b[38;5;241;43m=\u001b[39;49m\u001b[43mcredentials\u001b[49m\u001b[43m(\u001b[49m\u001b[43mfrom_file\u001b[49m\u001b[38;5;241;43m=\u001b[39;49m\u001b[43mfrom_file\u001b[49m\u001b[43m,\u001b[49m\u001b[43m \u001b[49m\u001b[43mreauth\u001b[49m\u001b[38;5;241;43m=\u001b[39;49m\u001b[43mreauth\u001b[49m\u001b[43m)\u001b[49m\u001b[43m,\u001b[49m\n\u001b[0;32m     66\u001b[0m \u001b[43m            \u001b[49m\u001b[43mproject\u001b[49m\u001b[38;5;241;43m=\u001b[39;49m\u001b[43mbilling_project_id\u001b[49m\u001b[43m,\u001b[49m\n\u001b[0;32m     67\u001b[0m \u001b[43m        \u001b[49m\u001b[43m)\u001b[49m,\n\u001b[0;32m     68\u001b[0m         storage\u001b[38;5;241m=\u001b[39mstorage\u001b[38;5;241m.\u001b[39mClient(\n\u001b[0;32m     69\u001b[0m             credentials\u001b[38;5;241m=\u001b[39mcredentials(from_file\u001b[38;5;241m=\u001b[39mfrom_file, reauth\u001b[38;5;241m=\u001b[39mreauth),\n\u001b[0;32m     70\u001b[0m             project\u001b[38;5;241m=\u001b[39mbilling_project_id,\n\u001b[0;32m     71\u001b[0m         ),\n\u001b[0;32m     72\u001b[0m     )\n",
      "File \u001b[1;32md:\\anaconda3\\lib\\site-packages\\google\\cloud\\bigquery\\client.py:209\u001b[0m, in \u001b[0;36mClient.__init__\u001b[1;34m(self, project, credentials, _http, location, default_query_job_config, client_info, client_options)\u001b[0m\n\u001b[0;32m    199\u001b[0m \u001b[38;5;28;01mdef\u001b[39;00m \u001b[38;5;21m__init__\u001b[39m(\n\u001b[0;32m    200\u001b[0m     \u001b[38;5;28mself\u001b[39m,\n\u001b[0;32m    201\u001b[0m     project\u001b[38;5;241m=\u001b[39m\u001b[38;5;28;01mNone\u001b[39;00m,\n\u001b[1;32m   (...)\u001b[0m\n\u001b[0;32m    207\u001b[0m     client_options\u001b[38;5;241m=\u001b[39m\u001b[38;5;28;01mNone\u001b[39;00m,\n\u001b[0;32m    208\u001b[0m ):\n\u001b[1;32m--> 209\u001b[0m     \u001b[38;5;28;43msuper\u001b[39;49m\u001b[43m(\u001b[49m\u001b[43mClient\u001b[49m\u001b[43m,\u001b[49m\u001b[43m \u001b[49m\u001b[38;5;28;43mself\u001b[39;49m\u001b[43m)\u001b[49m\u001b[38;5;241;43m.\u001b[39;49m\u001b[38;5;21;43m__init__\u001b[39;49m\u001b[43m(\u001b[49m\n\u001b[0;32m    210\u001b[0m \u001b[43m        \u001b[49m\u001b[43mproject\u001b[49m\u001b[38;5;241;43m=\u001b[39;49m\u001b[43mproject\u001b[49m\u001b[43m,\u001b[49m\n\u001b[0;32m    211\u001b[0m \u001b[43m        \u001b[49m\u001b[43mcredentials\u001b[49m\u001b[38;5;241;43m=\u001b[39;49m\u001b[43mcredentials\u001b[49m\u001b[43m,\u001b[49m\n\u001b[0;32m    212\u001b[0m \u001b[43m        \u001b[49m\u001b[43mclient_options\u001b[49m\u001b[38;5;241;43m=\u001b[39;49m\u001b[43mclient_options\u001b[49m\u001b[43m,\u001b[49m\n\u001b[0;32m    213\u001b[0m \u001b[43m        \u001b[49m\u001b[43m_http\u001b[49m\u001b[38;5;241;43m=\u001b[39;49m\u001b[43m_http\u001b[49m\u001b[43m,\u001b[49m\n\u001b[0;32m    214\u001b[0m \u001b[43m    \u001b[49m\u001b[43m)\u001b[49m\n\u001b[0;32m    216\u001b[0m     kw_args \u001b[38;5;241m=\u001b[39m {\u001b[38;5;124m\"\u001b[39m\u001b[38;5;124mclient_info\u001b[39m\u001b[38;5;124m\"\u001b[39m: client_info}\n\u001b[0;32m    217\u001b[0m     \u001b[38;5;28;01mif\u001b[39;00m client_options:\n",
      "File \u001b[1;32md:\\anaconda3\\lib\\site-packages\\google\\cloud\\client\\__init__.py:320\u001b[0m, in \u001b[0;36mClientWithProject.__init__\u001b[1;34m(self, project, credentials, client_options, _http)\u001b[0m\n\u001b[0;32m    319\u001b[0m \u001b[38;5;28;01mdef\u001b[39;00m \u001b[38;5;21m__init__\u001b[39m(\u001b[38;5;28mself\u001b[39m, project\u001b[38;5;241m=\u001b[39m\u001b[38;5;28;01mNone\u001b[39;00m, credentials\u001b[38;5;241m=\u001b[39m\u001b[38;5;28;01mNone\u001b[39;00m, client_options\u001b[38;5;241m=\u001b[39m\u001b[38;5;28;01mNone\u001b[39;00m, _http\u001b[38;5;241m=\u001b[39m\u001b[38;5;28;01mNone\u001b[39;00m):\n\u001b[1;32m--> 320\u001b[0m     \u001b[43m_ClientProjectMixin\u001b[49m\u001b[38;5;241;43m.\u001b[39;49m\u001b[38;5;21;43m__init__\u001b[39;49m\u001b[43m(\u001b[49m\u001b[38;5;28;43mself\u001b[39;49m\u001b[43m,\u001b[49m\u001b[43m \u001b[49m\u001b[43mproject\u001b[49m\u001b[38;5;241;43m=\u001b[39;49m\u001b[43mproject\u001b[49m\u001b[43m,\u001b[49m\u001b[43m \u001b[49m\u001b[43mcredentials\u001b[49m\u001b[38;5;241;43m=\u001b[39;49m\u001b[43mcredentials\u001b[49m\u001b[43m)\u001b[49m\n\u001b[0;32m    321\u001b[0m     Client\u001b[38;5;241m.\u001b[39m\u001b[38;5;21m__init__\u001b[39m(\n\u001b[0;32m    322\u001b[0m         \u001b[38;5;28mself\u001b[39m, credentials\u001b[38;5;241m=\u001b[39mcredentials, client_options\u001b[38;5;241m=\u001b[39mclient_options, _http\u001b[38;5;241m=\u001b[39m_http\n\u001b[0;32m    323\u001b[0m     )\n",
      "File \u001b[1;32md:\\anaconda3\\lib\\site-packages\\google\\cloud\\client\\__init__.py:268\u001b[0m, in \u001b[0;36m_ClientProjectMixin.__init__\u001b[1;34m(self, project, credentials)\u001b[0m\n\u001b[0;32m    265\u001b[0m     project \u001b[38;5;241m=\u001b[39m \u001b[38;5;28mgetattr\u001b[39m(credentials, \u001b[38;5;124m\"\u001b[39m\u001b[38;5;124mproject_id\u001b[39m\u001b[38;5;124m\"\u001b[39m, \u001b[38;5;28;01mNone\u001b[39;00m)\n\u001b[0;32m    267\u001b[0m \u001b[38;5;28;01mif\u001b[39;00m project \u001b[38;5;129;01mis\u001b[39;00m \u001b[38;5;28;01mNone\u001b[39;00m:\n\u001b[1;32m--> 268\u001b[0m     project \u001b[38;5;241m=\u001b[39m \u001b[38;5;28;43mself\u001b[39;49m\u001b[38;5;241;43m.\u001b[39;49m\u001b[43m_determine_default\u001b[49m\u001b[43m(\u001b[49m\u001b[43mproject\u001b[49m\u001b[43m)\u001b[49m\n\u001b[0;32m    270\u001b[0m \u001b[38;5;28;01mif\u001b[39;00m project \u001b[38;5;129;01mis\u001b[39;00m \u001b[38;5;28;01mNone\u001b[39;00m:\n\u001b[0;32m    271\u001b[0m     \u001b[38;5;28;01mraise\u001b[39;00m \u001b[38;5;167;01mEnvironmentError\u001b[39;00m(\n\u001b[0;32m    272\u001b[0m         \u001b[38;5;124m\"\u001b[39m\u001b[38;5;124mProject was not passed and could not be \u001b[39m\u001b[38;5;124m\"\u001b[39m\n\u001b[0;32m    273\u001b[0m         \u001b[38;5;124m\"\u001b[39m\u001b[38;5;124mdetermined from the environment.\u001b[39m\u001b[38;5;124m\"\u001b[39m\n\u001b[0;32m    274\u001b[0m     )\n",
      "File \u001b[1;32md:\\anaconda3\\lib\\site-packages\\google\\cloud\\client\\__init__.py:287\u001b[0m, in \u001b[0;36m_ClientProjectMixin._determine_default\u001b[1;34m(project)\u001b[0m\n\u001b[0;32m    284\u001b[0m \u001b[38;5;129m@staticmethod\u001b[39m\n\u001b[0;32m    285\u001b[0m \u001b[38;5;28;01mdef\u001b[39;00m \u001b[38;5;21m_determine_default\u001b[39m(project):\n\u001b[0;32m    286\u001b[0m     \u001b[38;5;124;03m\"\"\"Helper:  use default project detection.\"\"\"\u001b[39;00m\n\u001b[1;32m--> 287\u001b[0m     \u001b[38;5;28;01mreturn\u001b[39;00m \u001b[43m_determine_default_project\u001b[49m\u001b[43m(\u001b[49m\u001b[43mproject\u001b[49m\u001b[43m)\u001b[49m\n",
      "File \u001b[1;32md:\\anaconda3\\lib\\site-packages\\google\\cloud\\_helpers\\__init__.py:152\u001b[0m, in \u001b[0;36m_determine_default_project\u001b[1;34m(project)\u001b[0m\n\u001b[0;32m    140\u001b[0m \u001b[38;5;124;03m\"\"\"Determine default project ID explicitly or implicitly as fall-back.\u001b[39;00m\n\u001b[0;32m    141\u001b[0m \n\u001b[0;32m    142\u001b[0m \u001b[38;5;124;03mSee :func:`google.auth.default` for details on how the default project\u001b[39;00m\n\u001b[1;32m   (...)\u001b[0m\n\u001b[0;32m    149\u001b[0m \u001b[38;5;124;03m:returns: Default project if it can be determined.\u001b[39;00m\n\u001b[0;32m    150\u001b[0m \u001b[38;5;124;03m\"\"\"\u001b[39;00m\n\u001b[0;32m    151\u001b[0m \u001b[38;5;28;01mif\u001b[39;00m project \u001b[38;5;129;01mis\u001b[39;00m \u001b[38;5;28;01mNone\u001b[39;00m:\n\u001b[1;32m--> 152\u001b[0m     _, project \u001b[38;5;241m=\u001b[39m \u001b[43mgoogle\u001b[49m\u001b[38;5;241;43m.\u001b[39;49m\u001b[43mauth\u001b[49m\u001b[38;5;241;43m.\u001b[39;49m\u001b[43mdefault\u001b[49m\u001b[43m(\u001b[49m\u001b[43m)\u001b[49m\n\u001b[0;32m    153\u001b[0m \u001b[38;5;28;01mreturn\u001b[39;00m project\n",
      "File \u001b[1;32md:\\anaconda3\\lib\\site-packages\\google\\auth\\_default.py:646\u001b[0m, in \u001b[0;36mdefault\u001b[1;34m(scopes, request, quota_project_id, default_scopes)\u001b[0m\n\u001b[0;32m    638\u001b[0m             _LOGGER\u001b[38;5;241m.\u001b[39mwarning(\n\u001b[0;32m    639\u001b[0m                 \u001b[38;5;124m\"\u001b[39m\u001b[38;5;124mNo project ID could be determined. Consider running \u001b[39m\u001b[38;5;124m\"\u001b[39m\n\u001b[0;32m    640\u001b[0m                 \u001b[38;5;124m\"\u001b[39m\u001b[38;5;124m`gcloud config set project` or setting the \u001b[39m\u001b[38;5;132;01m%s\u001b[39;00m\u001b[38;5;124m \u001b[39m\u001b[38;5;124m\"\u001b[39m\n\u001b[0;32m    641\u001b[0m                 \u001b[38;5;124m\"\u001b[39m\u001b[38;5;124menvironment variable\u001b[39m\u001b[38;5;124m\"\u001b[39m,\n\u001b[0;32m    642\u001b[0m                 environment_vars\u001b[38;5;241m.\u001b[39mPROJECT,\n\u001b[0;32m    643\u001b[0m             )\n\u001b[0;32m    644\u001b[0m         \u001b[38;5;28;01mreturn\u001b[39;00m credentials, effective_project_id\n\u001b[1;32m--> 646\u001b[0m \u001b[38;5;28;01mraise\u001b[39;00m exceptions\u001b[38;5;241m.\u001b[39mDefaultCredentialsError(_HELP_MESSAGE)\n",
      "\u001b[1;31mDefaultCredentialsError\u001b[0m: Could not automatically determine credentials. Please set GOOGLE_APPLICATION_CREDENTIALS or explicitly create credentials and re-run the application. For more information, please see https://cloud.google.com/docs/authentication/getting-started"
     ]
    }
   ],
   "source": [
    "bd.download(dataset_id=\"br_inmet_bdmep\", table_id=\"microdados\", savepath=DATA_PATH)"
   ]
  },
  {
   "cell_type": "code",
   "execution_count": null,
   "metadata": {},
   "outputs": [],
   "source": []
  }
 ],
 "metadata": {
  "kernelspec": {
   "display_name": "base",
   "language": "python",
   "name": "python3"
  },
  "language_info": {
   "codemirror_mode": {
    "name": "ipython",
    "version": 3
   },
   "file_extension": ".py",
   "mimetype": "text/x-python",
   "name": "python",
   "nbconvert_exporter": "python",
   "pygments_lexer": "ipython3",
   "version": "3.9.19"
  }
 },
 "nbformat": 4,
 "nbformat_minor": 2
}
