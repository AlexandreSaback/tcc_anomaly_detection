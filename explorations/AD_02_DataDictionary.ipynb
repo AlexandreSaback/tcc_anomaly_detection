{
 "cells": [
  {
   "cell_type": "code",
   "execution_count": 1,
   "metadata": {},
   "outputs": [],
   "source": [
    "import pandas as pd\n",
    "import numpy as np\n",
    "import matplotlib.pyplot as plt\n",
    "import seaborn as sns\n",
    "from pathlib import Path\n",
    "import os\n",
    "from os.path import join\n",
    "import re\n",
    "import math"
   ]
  },
  {
   "cell_type": "markdown",
   "metadata": {},
   "source": [
    "# Coleta de Dados"
   ]
  },
  {
   "cell_type": "code",
   "execution_count": 2,
   "metadata": {},
   "outputs": [],
   "source": [
    "MODULE_PATH = Path().absolute().parent\n",
    "DATA_PATH = join(MODULE_PATH, \"sources/processed\")"
   ]
  },
  {
   "cell_type": "code",
   "execution_count": 3,
   "metadata": {},
   "outputs": [],
   "source": [
    "processed_data = pd.read_csv(join(DATA_PATH, \"processed_data.csv\"))"
   ]
  },
  {
   "cell_type": "markdown",
   "metadata": {},
   "source": [
    "# Dicionário de Dados"
   ]
  },
  {
   "cell_type": "code",
   "execution_count": 15,
   "metadata": {},
   "outputs": [],
   "source": [
    "keys = processed_data.columns.to_list()[1:-1]"
   ]
  },
  {
   "cell_type": "code",
   "execution_count": 5,
   "metadata": {},
   "outputs": [],
   "source": [
    "values = [\n",
    "    \"Nas estações automáticas é a medida total de precipitação (chuva), ocorrida na última hora antes de cada mensagem de dados. Nas estações convencionais É a medida do total de precipitação (chuva) que ocorreu no espaço de 24 hora.\",\n",
    "    \"Nas estações convencionais é a medida da pressão atmosférica que foi medida na estação, e a partir deste valor, também é calculada a pressão ao nível do mar (para fins sinóticos). Nas estações automáticas é a medida média da pressão atmosférica, também ao nível da estação, ocorrida na última hora antes de cada mensagem de dados.\",\n",
    "    \"Nas estações automáticas é a medida da pressão atmosférica máxima, ocorrida na última hora antes de cada mensagem de dados. Este parâmetro não é determinado nas estações convencionais.\",\n",
    "    \"Nas estações automáticas é medida da pressão atmosférica mínima, ocorrida na última hora antes de cada mensagem de dados. Este parâmetro não é determinado nas estações convencionais.\",\n",
    "    \"Nas estações automáticas é a medida de toda radiação solar que chegou a superfície terrestre, na última hora antes de cada mensagem de dados. Nas estações convencionais a radiação solar global é medida de forma indireta, cujo registro necessita de processamento posterior, para que se tenha o total de radiação solar global que chegou ao respectivo local.\",\n",
    "    \"Nas estações convencionais é a medida da temperatura do ar, a partir do termômetro de bulbo seco do psicrômetro (equipamento dotado de um termômetro de bulbo seco e um termômetro de bulbo úmido). Nas estações automáticas é medida média da temperatura do ar, ocorrida na última hora antes de cada mensagem de dados.\",\n",
    "    \"Nas estações convencionais é uma medida determinada de forma indireta (a partir dos valores de temperatura do ar e da umidade relativa), através de valores tabulares. E indica a temperatura que o ar deveria ter, para que ele se tornasse saturado, e assim produzir orvalho. Nas estações automáticas este parâmetro é calculado a partir dos valores de temperatura do ar e da umidade relativa, ocorridos na última hora antes de cada mensagem de dados.\",\n",
    "    \"Nas estações convencionais é a medida máxima da temperatura do ar, ocorrida no período de 24 horas, a partir do termômetro específico para este fim. Nas estações automáticas é medida máxima da temperatura do ar, ocorrida na última hora antes de cada mensagem de dados.\",\n",
    "    \"Nas estações convencionais é a medida mínima da temperatura do ar, ocorrida no período de 24 horas, a partir do termômetro específico para este fim. Nas estações automáticas é a medida mínima da temperatura do ar, ocorrida na última hora antes de cada mensagem de dados.\",\n",
    "    \"Nas estações automáticas este parâmetro é calculado a partir dos valores máximos de temperatura do ar e da umidade relativa, ocorridos na última hora antes de cada mensagem de dados. Este parâmetro não é determinado nas estações convencionais.\",\n",
    "    \"Nas estações automáticas este parâmetro é calculado a partir dos valores mínimos de temperatura do ar e da umidade relativa, ocorridos na última hora antes de cada mensagem de dados. Este parâmetro não é determinado nas estações convencionais.\",\n",
    "    \"Nas estações automáticas é a medida máxima da umidade relativa do ar, ocorrida na última hora antes de cada mensagem de dados. Este parâmetro não é determinado nas estações convencionais.\",\n",
    "    \"Nas estações automáticas é a medida mínima da umidade relativa do ar, ocorrida na última hora antes de cada mensagem de dados. Este parâmetro não é determinado nas estações convencionais.\",\n",
    "    \"Nas estações convencionais é uma medida determinada de forma indireta, a partir do psicrômetro (equipamento dotado de um termômetro de bulbo seco e um termômetro de bulbo úmido), e o uso de valores tabulares. Nas estações automáticas é a medida da umidade relativa do ar, ocorrida na última hora antes de cada mensagem de dados.\",\n",
    "    \"Nas estações automáticas é a medida em graus angulares da direção do vento (de onde o vento vem). Este valor é a média dos últimos 10 minutos antes de cada hora, de envio da mensagem de dados. Nas estações convencionais é a medida da direção do vento, determinada pelas indicações de setor da rosa dos ventos, e se constitui na média dos últimos 10 minutos antes da hora cheia (09:00, ..., 12:00 UTC) de cada observação.\",\n",
    "    \"Nas estações automáticas é a medida da velocidade do vento. Este valor é a média dos últimos 10 minutos antes de cada hora, de envio da mensagem de dados. Nas estações convencionais é a medida da velocidade do vento, e determinada a partir da média dos últimos 10 minutos antes da hora cheia (09:00, ..., 12:00 UTC) de cada observação.\"\n",
    "]"
   ]
  },
  {
   "cell_type": "code",
   "execution_count": 17,
   "metadata": {},
   "outputs": [],
   "source": [
    "data_info_df = pd.DataFrame(data=zip(keys, values), columns=[\"Parâmetro\", \"Significado\"])"
   ]
  },
  {
   "cell_type": "code",
   "execution_count": 19,
   "metadata": {},
   "outputs": [
    {
     "data": {
      "text/html": [
       "<div>\n",
       "<style scoped>\n",
       "    .dataframe tbody tr th:only-of-type {\n",
       "        vertical-align: middle;\n",
       "    }\n",
       "\n",
       "    .dataframe tbody tr th {\n",
       "        vertical-align: top;\n",
       "    }\n",
       "\n",
       "    .dataframe thead th {\n",
       "        text-align: right;\n",
       "    }\n",
       "</style>\n",
       "<table border=\"1\" class=\"dataframe\">\n",
       "  <thead>\n",
       "    <tr style=\"text-align: right;\">\n",
       "      <th></th>\n",
       "      <th>Parâmetro</th>\n",
       "      <th>Significado</th>\n",
       "    </tr>\n",
       "  </thead>\n",
       "  <tbody>\n",
       "    <tr>\n",
       "      <th>0</th>\n",
       "      <td>PRECIPITAÇÃO TOTAL, HORÁRIO (mm)</td>\n",
       "      <td>Nas estações automáticas é a medida total de precipitação (chuva), ocorrida na última hora antes de cada mensagem de dados. Nas estações convencionais É a medida do total de precipitação (chuva) que ocorreu no espaço de 24 hora.</td>\n",
       "    </tr>\n",
       "    <tr>\n",
       "      <th>1</th>\n",
       "      <td>PRESSAO ATMOSFERICA AO NIVEL DA ESTACAO, HORARIA (mB)</td>\n",
       "      <td>Nas estações convencionais é a medida da pressão atmosférica que foi medida na estação, e a partir deste valor, também é calculada a pressão ao nível do mar (para fins sinóticos). Nas estações automáticas é a medida média da pressão atmosférica, também ao nível da estação, ocorrida na última hora antes de cada mensagem de dados.</td>\n",
       "    </tr>\n",
       "    <tr>\n",
       "      <th>2</th>\n",
       "      <td>PRESSÃO ATMOSFERICA MAX.NA HORA ANT. (AUT) (mB)</td>\n",
       "      <td>Nas estações automáticas é a medida da pressão atmosférica máxima, ocorrida na última hora antes de cada mensagem de dados. Este parâmetro não é determinado nas estações convencionais.</td>\n",
       "    </tr>\n",
       "    <tr>\n",
       "      <th>3</th>\n",
       "      <td>PRESSÃO ATMOSFERICA MIN. NA HORA ANT. (AUT) (mB)</td>\n",
       "      <td>Nas estações automáticas é medida da pressão atmosférica mínima, ocorrida na última hora antes de cada mensagem de dados. Este parâmetro não é determinado nas estações convencionais.</td>\n",
       "    </tr>\n",
       "    <tr>\n",
       "      <th>4</th>\n",
       "      <td>RADIACAO GLOBAL (Kj/m²)</td>\n",
       "      <td>Nas estações automáticas é a medida de toda radiação solar que chegou a superfície terrestre, na última hora antes de cada mensagem de dados. Nas estações convencionais a radiação solar global é medida de forma indireta, cujo registro necessita de processamento posterior, para que se tenha o total de radiação solar global que chegou ao respectivo local.</td>\n",
       "    </tr>\n",
       "    <tr>\n",
       "      <th>5</th>\n",
       "      <td>TEMPERATURA DO AR - BULBO SECO, HORARIA (°C)</td>\n",
       "      <td>Nas estações convencionais é a medida da temperatura do ar, a partir do termômetro de bulbo seco do psicrômetro (equipamento dotado de um termômetro de bulbo seco e um termômetro de bulbo úmido). Nas estações automáticas é medida média da temperatura do ar, ocorrida na última hora antes de cada mensagem de dados.</td>\n",
       "    </tr>\n",
       "    <tr>\n",
       "      <th>6</th>\n",
       "      <td>TEMPERATURA DO PONTO DE ORVALHO (°C)</td>\n",
       "      <td>Nas estações convencionais é uma medida determinada de forma indireta (a partir dos valores de temperatura do ar e da umidade relativa), através de valores tabulares. E indica a temperatura que o ar deveria ter, para que ele se tornasse saturado, e assim produzir orvalho. Nas estações automáticas este parâmetro é calculado a partir dos valores de temperatura do ar e da umidade relativa, ocorridos na última hora antes de cada mensagem de dados.</td>\n",
       "    </tr>\n",
       "    <tr>\n",
       "      <th>7</th>\n",
       "      <td>TEMPERATURA MÁXIMA NA HORA ANT. (AUT) (°C)</td>\n",
       "      <td>Nas estações convencionais é a medida máxima da temperatura do ar, ocorrida no período de 24 horas, a partir do termômetro específico para este fim. Nas estações automáticas é medida máxima da temperatura do ar, ocorrida na última hora antes de cada mensagem de dados.</td>\n",
       "    </tr>\n",
       "    <tr>\n",
       "      <th>8</th>\n",
       "      <td>TEMPERATURA MÍNIMA NA HORA ANT. (AUT) (°C)</td>\n",
       "      <td>Nas estações convencionais é a medida mínima da temperatura do ar, ocorrida no período de 24 horas, a partir do termômetro específico para este fim. Nas estações automáticas é a medida mínima da temperatura do ar, ocorrida na última hora antes de cada mensagem de dados.</td>\n",
       "    </tr>\n",
       "    <tr>\n",
       "      <th>9</th>\n",
       "      <td>TEMPERATURA ORVALHO MAX. NA HORA ANT. (AUT) (°C)</td>\n",
       "      <td>Nas estações automáticas este parâmetro é calculado a partir dos valores máximos de temperatura do ar e da umidade relativa, ocorridos na última hora antes de cada mensagem de dados. Este parâmetro não é determinado nas estações convencionais.</td>\n",
       "    </tr>\n",
       "    <tr>\n",
       "      <th>10</th>\n",
       "      <td>TEMPERATURA ORVALHO MIN. NA HORA ANT. (AUT) (°C)</td>\n",
       "      <td>Nas estações automáticas este parâmetro é calculado a partir dos valores mínimos de temperatura do ar e da umidade relativa, ocorridos na última hora antes de cada mensagem de dados. Este parâmetro não é determinado nas estações convencionais.</td>\n",
       "    </tr>\n",
       "    <tr>\n",
       "      <th>11</th>\n",
       "      <td>UMIDADE REL. MAX. NA HORA ANT. (AUT) (%)</td>\n",
       "      <td>Nas estações automáticas é a medida máxima da umidade relativa do ar, ocorrida na última hora antes de cada mensagem de dados. Este parâmetro não é determinado nas estações convencionais.</td>\n",
       "    </tr>\n",
       "    <tr>\n",
       "      <th>12</th>\n",
       "      <td>UMIDADE REL. MIN. NA HORA ANT. (AUT) (%)</td>\n",
       "      <td>Nas estações automáticas é a medida mínima da umidade relativa do ar, ocorrida na última hora antes de cada mensagem de dados. Este parâmetro não é determinado nas estações convencionais.</td>\n",
       "    </tr>\n",
       "    <tr>\n",
       "      <th>13</th>\n",
       "      <td>UMIDADE RELATIVA DO AR, HORARIA (%)</td>\n",
       "      <td>Nas estações convencionais é uma medida determinada de forma indireta, a partir do psicrômetro (equipamento dotado de um termômetro de bulbo seco e um termômetro de bulbo úmido), e o uso de valores tabulares. Nas estações automáticas é a medida da umidade relativa do ar, ocorrida na última hora antes de cada mensagem de dados.</td>\n",
       "    </tr>\n",
       "    <tr>\n",
       "      <th>14</th>\n",
       "      <td>VENTO, DIREÇÃO HORARIA (gr) (° (gr))</td>\n",
       "      <td>Nas estações automáticas é a medida em graus angulares da direção do vento (de onde o vento vem). Este valor é a média dos últimos 10 minutos antes de cada hora, de envio da mensagem de dados. Nas estações convencionais é a medida da direção do vento, determinada pelas indicações de setor da rosa dos ventos, e se constitui na média dos últimos 10 minutos antes da hora cheia (09:00, ..., 12:00 UTC) de cada observação.</td>\n",
       "    </tr>\n",
       "    <tr>\n",
       "      <th>15</th>\n",
       "      <td>VENTO, RAJADA MAXIMA (m/s)</td>\n",
       "      <td>Nas estações automáticas é a medida da velocidade do vento. Este valor é a média dos últimos 10 minutos antes de cada hora, de envio da mensagem de dados. Nas estações convencionais é a medida da velocidade do vento, e determinada a partir da média dos últimos 10 minutos antes da hora cheia (09:00, ..., 12:00 UTC) de cada observação.</td>\n",
       "    </tr>\n",
       "  </tbody>\n",
       "</table>\n",
       "</div>"
      ],
      "text/plain": [
       "                                                Parâmetro  \\\n",
       "0                        PRECIPITAÇÃO TOTAL, HORÁRIO (mm)   \n",
       "1   PRESSAO ATMOSFERICA AO NIVEL DA ESTACAO, HORARIA (mB)   \n",
       "2         PRESSÃO ATMOSFERICA MAX.NA HORA ANT. (AUT) (mB)   \n",
       "3        PRESSÃO ATMOSFERICA MIN. NA HORA ANT. (AUT) (mB)   \n",
       "4                                 RADIACAO GLOBAL (Kj/m²)   \n",
       "5            TEMPERATURA DO AR - BULBO SECO, HORARIA (°C)   \n",
       "6                    TEMPERATURA DO PONTO DE ORVALHO (°C)   \n",
       "7              TEMPERATURA MÁXIMA NA HORA ANT. (AUT) (°C)   \n",
       "8              TEMPERATURA MÍNIMA NA HORA ANT. (AUT) (°C)   \n",
       "9        TEMPERATURA ORVALHO MAX. NA HORA ANT. (AUT) (°C)   \n",
       "10       TEMPERATURA ORVALHO MIN. NA HORA ANT. (AUT) (°C)   \n",
       "11               UMIDADE REL. MAX. NA HORA ANT. (AUT) (%)   \n",
       "12               UMIDADE REL. MIN. NA HORA ANT. (AUT) (%)   \n",
       "13                    UMIDADE RELATIVA DO AR, HORARIA (%)   \n",
       "14                   VENTO, DIREÇÃO HORARIA (gr) (° (gr))   \n",
       "15                             VENTO, RAJADA MAXIMA (m/s)   \n",
       "\n",
       "                                                                                                                                                                                                                                                                                                                                                                                                                                                        Significado  \n",
       "0                                                                                                                                                                                                                              Nas estações automáticas é a medida total de precipitação (chuva), ocorrida na última hora antes de cada mensagem de dados. Nas estações convencionais É a medida do total de precipitação (chuva) que ocorreu no espaço de 24 hora.  \n",
       "1                                                                                                                        Nas estações convencionais é a medida da pressão atmosférica que foi medida na estação, e a partir deste valor, também é calculada a pressão ao nível do mar (para fins sinóticos). Nas estações automáticas é a medida média da pressão atmosférica, também ao nível da estação, ocorrida na última hora antes de cada mensagem de dados.  \n",
       "2                                                                                                                                                                                                                                                                          Nas estações automáticas é a medida da pressão atmosférica máxima, ocorrida na última hora antes de cada mensagem de dados. Este parâmetro não é determinado nas estações convencionais.  \n",
       "3                                                                                                                                                                                                                                                                            Nas estações automáticas é medida da pressão atmosférica mínima, ocorrida na última hora antes de cada mensagem de dados. Este parâmetro não é determinado nas estações convencionais.  \n",
       "4                                                                                               Nas estações automáticas é a medida de toda radiação solar que chegou a superfície terrestre, na última hora antes de cada mensagem de dados. Nas estações convencionais a radiação solar global é medida de forma indireta, cujo registro necessita de processamento posterior, para que se tenha o total de radiação solar global que chegou ao respectivo local.  \n",
       "5                                                                                                                                        Nas estações convencionais é a medida da temperatura do ar, a partir do termômetro de bulbo seco do psicrômetro (equipamento dotado de um termômetro de bulbo seco e um termômetro de bulbo úmido). Nas estações automáticas é medida média da temperatura do ar, ocorrida na última hora antes de cada mensagem de dados.  \n",
       "6   Nas estações convencionais é uma medida determinada de forma indireta (a partir dos valores de temperatura do ar e da umidade relativa), através de valores tabulares. E indica a temperatura que o ar deveria ter, para que ele se tornasse saturado, e assim produzir orvalho. Nas estações automáticas este parâmetro é calculado a partir dos valores de temperatura do ar e da umidade relativa, ocorridos na última hora antes de cada mensagem de dados.  \n",
       "7                                                                                                                                                                                      Nas estações convencionais é a medida máxima da temperatura do ar, ocorrida no período de 24 horas, a partir do termômetro específico para este fim. Nas estações automáticas é medida máxima da temperatura do ar, ocorrida na última hora antes de cada mensagem de dados.  \n",
       "8                                                                                                                                                                                    Nas estações convencionais é a medida mínima da temperatura do ar, ocorrida no período de 24 horas, a partir do termômetro específico para este fim. Nas estações automáticas é a medida mínima da temperatura do ar, ocorrida na última hora antes de cada mensagem de dados.  \n",
       "9                                                                                                                                                                                                               Nas estações automáticas este parâmetro é calculado a partir dos valores máximos de temperatura do ar e da umidade relativa, ocorridos na última hora antes de cada mensagem de dados. Este parâmetro não é determinado nas estações convencionais.  \n",
       "10                                                                                                                                                                                                              Nas estações automáticas este parâmetro é calculado a partir dos valores mínimos de temperatura do ar e da umidade relativa, ocorridos na última hora antes de cada mensagem de dados. Este parâmetro não é determinado nas estações convencionais.  \n",
       "11                                                                                                                                                                                                                                                                      Nas estações automáticas é a medida máxima da umidade relativa do ar, ocorrida na última hora antes de cada mensagem de dados. Este parâmetro não é determinado nas estações convencionais.  \n",
       "12                                                                                                                                                                                                                                                                      Nas estações automáticas é a medida mínima da umidade relativa do ar, ocorrida na última hora antes de cada mensagem de dados. Este parâmetro não é determinado nas estações convencionais.  \n",
       "13                                                                                                                         Nas estações convencionais é uma medida determinada de forma indireta, a partir do psicrômetro (equipamento dotado de um termômetro de bulbo seco e um termômetro de bulbo úmido), e o uso de valores tabulares. Nas estações automáticas é a medida da umidade relativa do ar, ocorrida na última hora antes de cada mensagem de dados.  \n",
       "14                             Nas estações automáticas é a medida em graus angulares da direção do vento (de onde o vento vem). Este valor é a média dos últimos 10 minutos antes de cada hora, de envio da mensagem de dados. Nas estações convencionais é a medida da direção do vento, determinada pelas indicações de setor da rosa dos ventos, e se constitui na média dos últimos 10 minutos antes da hora cheia (09:00, ..., 12:00 UTC) de cada observação.  \n",
       "15                                                                                                                  Nas estações automáticas é a medida da velocidade do vento. Este valor é a média dos últimos 10 minutos antes de cada hora, de envio da mensagem de dados. Nas estações convencionais é a medida da velocidade do vento, e determinada a partir da média dos últimos 10 minutos antes da hora cheia (09:00, ..., 12:00 UTC) de cada observação.  "
      ]
     },
     "execution_count": 19,
     "metadata": {},
     "output_type": "execute_result"
    }
   ],
   "source": [
    "pd.options.display.max_colwidth = 500\n",
    "data_info_df"
   ]
  },
  {
   "cell_type": "markdown",
   "metadata": {},
   "source": [
    "# Saída de Dados"
   ]
  },
  {
   "cell_type": "code",
   "execution_count": 20,
   "metadata": {},
   "outputs": [],
   "source": [
    "OUTPUT_PATH = join(MODULE_PATH, \"sources/processed\")"
   ]
  },
  {
   "cell_type": "code",
   "execution_count": 21,
   "metadata": {},
   "outputs": [],
   "source": [
    "data_info_df.to_csv(join(OUTPUT_PATH, \"data_dictionary.csv\"))"
   ]
  }
 ],
 "metadata": {
  "kernelspec": {
   "display_name": "base",
   "language": "python",
   "name": "python3"
  },
  "language_info": {
   "codemirror_mode": {
    "name": "ipython",
    "version": 3
   },
   "file_extension": ".py",
   "mimetype": "text/x-python",
   "name": "python",
   "nbconvert_exporter": "python",
   "pygments_lexer": "ipython3",
   "version": "3.9.19"
  }
 },
 "nbformat": 4,
 "nbformat_minor": 2
}
